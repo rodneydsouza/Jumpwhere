{
 "cells": [
  {
   "cell_type": "code",
   "execution_count": 1,
   "id": "e7485aa0",
   "metadata": {},
   "outputs": [
    {
     "name": "stdout",
     "output_type": "stream",
     "text": [
      "8\n"
     ]
    }
   ],
   "source": [
    "#gas station problem\n",
    "def gas_station(gas,cost):\n",
    "    rem=0\n",
    "    prev_rem=0\n",
    "    candidate=0\n",
    "    for i in range(len(gas)):\n",
    "        rem += gas[i] - cost[i]\n",
    "        if rem < 0:\n",
    "            candidate =i+1\n",
    "            prev_rem += rem\n",
    "            rem=0\n",
    "    if candidate == len(gas) or rem+prev_rem < 0:\n",
    "        return -1\n",
    "    else:\n",
    "        return candidate\n",
    "    \n",
    "gas=[1,5,3,3,5,3,1,3,4,5]\n",
    "cost=[5,2,2,8,2,4,2,5,1,2]\n",
    "x=gas_station(gas,cost)\n",
    "print(x)"
   ]
  },
  {
   "cell_type": "code",
   "execution_count": null,
   "id": "be70597c",
   "metadata": {},
   "outputs": [],
   "source": []
  }
 ],
 "metadata": {
  "kernelspec": {
   "display_name": "Python 3 (ipykernel)",
   "language": "python",
   "name": "python3"
  },
  "language_info": {
   "codemirror_mode": {
    "name": "ipython",
    "version": 3
   },
   "file_extension": ".py",
   "mimetype": "text/x-python",
   "name": "python",
   "nbconvert_exporter": "python",
   "pygments_lexer": "ipython3",
   "version": "3.9.13"
  }
 },
 "nbformat": 4,
 "nbformat_minor": 5
}
