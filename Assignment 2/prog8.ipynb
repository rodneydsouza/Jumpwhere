{
 "cells": [
  {
   "cell_type": "code",
   "execution_count": null,
   "id": "00010333",
   "metadata": {},
   "outputs": [],
   "source": [
    "#kth permutation\n",
    "def kth_permutation(n,k):\n",
    "    permutation=[]\n",
    "    unused=list(range(1,n+1))\n",
    "    fact=[1]*(n+1)\n",
    "    for i in range(1,n+1):\n",
    "        fact[i]=i*fact[i-1]\n",
    "    k-=1\n",
    "    while n>0:\n",
    "        part_length=fact[n]//n\n",
    "        i=k//part_length\n",
    "        permutation.append(unused[i])\n",
    "        unused.pop(i)\n",
    "        n-=1\n",
    "        k%=part_length\n",
    "    return ''.join(map(str,permutation))\n",
    "n=3\n",
    "k=3\n",
    "x=kth_permutation(n,k)\n",
    "print(x)"
   ]
  }
 ],
 "metadata": {
  "kernelspec": {
   "display_name": "Python 3 (ipykernel)",
   "language": "python",
   "name": "python3"
  },
  "language_info": {
   "codemirror_mode": {
    "name": "ipython",
    "version": 3
   },
   "file_extension": ".py",
   "mimetype": "text/x-python",
   "name": "python",
   "nbconvert_exporter": "python",
   "pygments_lexer": "ipython3",
   "version": "3.9.13"
  }
 },
 "nbformat": 4,
 "nbformat_minor": 5
}
