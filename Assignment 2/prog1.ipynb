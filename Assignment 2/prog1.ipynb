{
 "cells": [
  {
   "cell_type": "code",
   "execution_count": 3,
   "id": "ddf41e1f",
   "metadata": {},
   "outputs": [
    {
     "name": "stdout",
     "output_type": "stream",
     "text": [
      "True\n"
     ]
    }
   ],
   "source": [
    "#anagrams\n",
    "def are_anagrams(s1,s2):\n",
    "    if len(s1)!= len(s2):\n",
    "        return False\n",
    "    freq1={}\n",
    "    freq2={}\n",
    "    for ch in s1:\n",
    "        if ch in freq1:\n",
    "            freq1[ch]+=1\n",
    "        else:\n",
    "            freq1[ch]=1\n",
    "    for ch in s2:\n",
    "        if ch in freq2:\n",
    "            freq2[ch]+=1\n",
    "        else:\n",
    "            freq2[ch]=1\n",
    "    for key in freq1:\n",
    "        if key not in freq2 or freq1[key]!= freq2[key]:\n",
    "            return False\n",
    "    return True\n",
    "            \n",
    "s1=\"garden\"\n",
    "s2=\"danger\"\n",
    "freq1={\n",
    "    'n':1,\n",
    "    'a':1,\n",
    "    'm':1,\n",
    "    'e':2,\n",
    "    'l':1,\n",
    "    's':2\n",
    "}\n",
    "freq1={\n",
    "    's':2,\n",
    "    'a':1,\n",
    "    'l':1,\n",
    "    'e':2,\n",
    "    'm':1,\n",
    "    'n':1\n",
    "}\n",
    "x=are_anagrams(s1,s2)\n",
    "print(x)"
   ]
  },
  {
   "cell_type": "code",
   "execution_count": null,
   "id": "f6a81cb9",
   "metadata": {},
   "outputs": [],
   "source": []
  },
  {
   "cell_type": "code",
   "execution_count": null,
   "id": "bf98e54e",
   "metadata": {},
   "outputs": [],
   "source": []
  }
 ],
 "metadata": {
  "kernelspec": {
   "display_name": "Python 3 (ipykernel)",
   "language": "python",
   "name": "python3"
  },
  "language_info": {
   "codemirror_mode": {
    "name": "ipython",
    "version": 3
   },
   "file_extension": ".py",
   "mimetype": "text/x-python",
   "name": "python",
   "nbconvert_exporter": "python",
   "pygments_lexer": "ipython3",
   "version": "3.9.13"
  }
 },
 "nbformat": 4,
 "nbformat_minor": 5
}
