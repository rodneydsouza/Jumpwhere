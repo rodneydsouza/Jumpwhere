{
 "cells": [
  {
   "cell_type": "code",
   "execution_count": null,
   "id": "8cc7ce02",
   "metadata": {},
   "outputs": [],
   "source": [
    "#minimum window substring\n",
    "from collections import Counter\n",
    "def contains_all(freq1,freq2):\n",
    "    for ch in freq2:\n",
    "        if freq1[ch]<freq2[ch]:\n",
    "            return False\n",
    "    return True\n",
    "\n",
    "def min_window(s,t):\n",
    "    n,m=len(s),len(t)\n",
    "    if m>n or m==0:\n",
    "        return \"\"\n",
    "    freqt=Counter(t)\n",
    "    shortest=\" \"*(n+1)\n",
    "    for length in range(1,n+1):\n",
    "        for i in range(n-length+1):\n",
    "            sub=s[i:i+length]\n",
    "            freqs=Counter(sub)\n",
    "            if contains_all(freqs,freqt) and length<len(shortest):\n",
    "                shortest=sub\n",
    "    return shortest if len(shortest)<=n else \"\"\n",
    "s=\"ADCFEBECEABEBADFCDFCBFCBEAD\"\n",
    "t=\"ABCA\"\n",
    "x=min_window(s,t)\n",
    "print(x)"
   ]
  }
 ],
 "metadata": {
  "kernelspec": {
   "display_name": "Python 3 (ipykernel)",
   "language": "python",
   "name": "python3"
  },
  "language_info": {
   "codemirror_mode": {
    "name": "ipython",
    "version": 3
   },
   "file_extension": ".py",
   "mimetype": "text/x-python",
   "name": "python",
   "nbconvert_exporter": "python",
   "pygments_lexer": "ipython3",
   "version": "3.9.13"
  }
 },
 "nbformat": 4,
 "nbformat_minor": 5
}
