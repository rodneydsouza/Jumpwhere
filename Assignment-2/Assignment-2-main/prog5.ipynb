{
 "cells": [
  {
   "cell_type": "code",
   "execution_count": 1,
   "id": "f3c35248",
   "metadata": {},
   "outputs": [
    {
     "name": "stdout",
     "output_type": "stream",
     "text": [
      "['((()))', '(()())', '(())()', '()(())', '()()()']\n"
     ]
    }
   ],
   "source": [
    "#generate parentheses\n",
    "def generate(n):\n",
    "    def rec(n,diff, comb, combs):\n",
    "        if diff < 0 or diff > n:\n",
    "            return\n",
    "        elif n==0:\n",
    "            if diff==0:\n",
    "                combs.append(''.join(comb))\n",
    "        else:\n",
    "            comb.append('(')\n",
    "            rec(n-1,diff+1,comb,combs)\n",
    "            comb.pop()\n",
    "            comb.append(')')\n",
    "            rec(n-1,diff-1,comb,combs)\n",
    "            comb.pop()\n",
    "    combs = []\n",
    "    rec(2*n, 0, [], combs)\n",
    "    return combs\n",
    "n=3\n",
    "x=generate(n)\n",
    "print(x)\n",
    "        "
   ]
  },
  {
   "cell_type": "code",
   "execution_count": null,
   "id": "9ac7ba06",
   "metadata": {},
   "outputs": [],
   "source": []
  }
 ],
 "metadata": {
  "kernelspec": {
   "display_name": "Python 3 (ipykernel)",
   "language": "python",
   "name": "python3"
  },
  "language_info": {
   "codemirror_mode": {
    "name": "ipython",
    "version": 3
   },
   "file_extension": ".py",
   "mimetype": "text/x-python",
   "name": "python",
   "nbconvert_exporter": "python",
   "pygments_lexer": "ipython3",
   "version": "3.9.13"
  }
 },
 "nbformat": 4,
 "nbformat_minor": 5
}
