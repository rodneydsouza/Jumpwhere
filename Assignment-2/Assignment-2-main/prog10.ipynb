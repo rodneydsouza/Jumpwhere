{
 "cells": [
  {
   "cell_type": "code",
   "execution_count": 1,
   "id": "bd39e75d",
   "metadata": {},
   "outputs": [
    {
     "name": "stdout",
     "output_type": "stream",
     "text": [
      "35\n"
     ]
    }
   ],
   "source": [
    "#Largest rectangular in histogram\n",
    "def largest_rectangle(heights):\n",
    "    max_area = 0\n",
    "    for i in range(len(heights)):\n",
    "        left = i\n",
    "        while left-1 >= 0 and heights[left-1] >= heights[i]:\n",
    "            left -= 1\n",
    "        right = i\n",
    "        while right+1 < len(heights) and heights[right+1] >= heights[i]:\n",
    "            right += 1\n",
    "        max_area = max(max_area, heights[i]*(right-left+1))\n",
    "    return max_area\n",
    "heights=[3,2,4,5,7,6,1,3,8,9,11,10,7,5,2,6]\n",
    "x=largest_rectangle(heights)\n",
    "print(x)"
   ]
  },
  {
   "cell_type": "code",
   "execution_count": null,
   "id": "1f3946f8",
   "metadata": {},
   "outputs": [],
   "source": []
  }
 ],
 "metadata": {
  "kernelspec": {
   "display_name": "Python 3 (ipykernel)",
   "language": "python",
   "name": "python3"
  },
  "language_info": {
   "codemirror_mode": {
    "name": "ipython",
    "version": 3
   },
   "file_extension": ".py",
   "mimetype": "text/x-python",
   "name": "python",
   "nbconvert_exporter": "python",
   "pygments_lexer": "ipython3",
   "version": "3.9.13"
  }
 },
 "nbformat": 4,
 "nbformat_minor": 5
}
