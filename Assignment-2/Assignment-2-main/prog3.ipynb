{
 "cells": [
  {
   "cell_type": "code",
   "execution_count": 1,
   "id": "52664120",
   "metadata": {},
   "outputs": [
    {
     "name": "stdout",
     "output_type": "stream",
     "text": [
      "6\n"
     ]
    }
   ],
   "source": [
    "# findind kth largest element\n",
    "def kth_largest(arr,k):\n",
    "    for i in range(k-1):\n",
    "        arr.remove(max(arr))\n",
    "    return max(arr)\n",
    "arr=[4,2,9,7,5,6,7,1,3]\n",
    "k=4\n",
    "x=kth_largest(arr,k)\n",
    "print(x)"
   ]
  },
  {
   "cell_type": "code",
   "execution_count": null,
   "id": "6520c95c",
   "metadata": {},
   "outputs": [],
   "source": []
  }
 ],
 "metadata": {
  "kernelspec": {
   "display_name": "Python 3 (ipykernel)",
   "language": "python",
   "name": "python3"
  },
  "language_info": {
   "codemirror_mode": {
    "name": "ipython",
    "version": 3
   },
   "file_extension": ".py",
   "mimetype": "text/x-python",
   "name": "python",
   "nbconvert_exporter": "python",
   "pygments_lexer": "ipython3",
   "version": "3.9.13"
  }
 },
 "nbformat": 4,
 "nbformat_minor": 5
}
