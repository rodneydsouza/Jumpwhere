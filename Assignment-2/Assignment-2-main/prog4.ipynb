{
 "cells": [
  {
   "cell_type": "code",
   "execution_count": 5,
   "id": "9a56d3a4",
   "metadata": {},
   "outputs": [
    {
     "name": "stdout",
     "output_type": "stream",
     "text": [
      "Symmetric\n"
     ]
    }
   ],
   "source": [
    "class Node:\n",
    "    def __init__(self, key):\n",
    "        self.key = key\n",
    "        self.left = None\n",
    "        self.right = None\n",
    "def isMirror(root1, root2):\n",
    "    if root1 is None and root2 is None:\n",
    "        return True\n",
    "    if (root1 is not None and root2 is not None):\n",
    "        if root1.key == root2.key:\n",
    "            return (isMirror(root1.left, root2.right)and\n",
    "                    isMirror(root1.right, root2.left))\n",
    "    return False\n",
    "  \n",
    "def isSymmetric(root):\n",
    "    return isMirror(root, root)\n",
    "root = Node(1)\n",
    "root.left = Node(2)\n",
    "root.right = Node(2)\n",
    "root.left.left = Node(3)\n",
    "root.left.right = Node(4)\n",
    "root.right.left = Node(4)\n",
    "root.right.right = Node(3)\n",
    "print (\"Symmetric\" if isSymmetric(root) == True else \"Not symmetric\")\n",
    " "
   ]
  },
  {
   "cell_type": "code",
   "execution_count": null,
   "id": "d303b9bb",
   "metadata": {},
   "outputs": [],
   "source": []
  }
 ],
 "metadata": {
  "kernelspec": {
   "display_name": "Python 3 (ipykernel)",
   "language": "python",
   "name": "python3"
  },
  "language_info": {
   "codemirror_mode": {
    "name": "ipython",
    "version": 3
   },
   "file_extension": ".py",
   "mimetype": "text/x-python",
   "name": "python",
   "nbconvert_exporter": "python",
   "pygments_lexer": "ipython3",
   "version": "3.9.13"
  }
 },
 "nbformat": 4,
 "nbformat_minor": 5
}
